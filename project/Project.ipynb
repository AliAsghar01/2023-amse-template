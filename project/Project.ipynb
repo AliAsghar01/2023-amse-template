{
 "cells": [
  {
   "cell_type": "code",
   "execution_count": 15,
   "id": "7278d992",
   "metadata": {},
   "outputs": [],
   "source": [
    "import numpy as np\n",
    "import pandas as pd\n",
    "import sqlite3\n",
    "import plotly.express as px\n",
    "import matplotlib.pyplot as plt"
   ]
  },
  {
   "cell_type": "code",
   "execution_count": 16,
   "id": "2ff60913",
   "metadata": {},
   "outputs": [],
   "source": [
    "# Step 2: Load the datasets\n",
    "conn = sqlite3.connect('traffic_violation.sqlite')\n",
    "parking_df = pd.read_sql_query(\"SELECT * FROM parking_violations\", conn)\n",
    "street_df = pd.read_sql_query(\"SELECT * FROM street_directory\", conn)\n"
   ]
  },
  {
   "cell_type": "code",
   "execution_count": 39,
   "id": "7034a508",
   "metadata": {},
   "outputs": [
    {
     "name": "stdout",
     "output_type": "stream",
     "text": [
      "17141\n",
      "2246\n"
     ]
    }
   ],
   "source": [
    "print(len(parking_df['Crime_location'].unique()))\n",
    "print(len(street_df['Street_Name'].unique()))\n",
    "\n",
    "\n"
   ]
  },
  {
   "cell_type": "code",
   "execution_count": 5,
   "id": "a364cac7",
   "metadata": {},
   "outputs": [
    {
     "name": "stdout",
     "output_type": "stream",
     "text": [
      "704\n"
     ]
    }
   ],
   "source": [
    "import pandas as pd\n",
    "\n",
    "# Assuming you have the data frames parking_df and street_df\n",
    "\n",
    "# Extract unique values from parking_df['Crime_location']\n",
    "parking_unique_values = set(parking_df['Crime_Str_No'].unique())\n",
    "\n",
    "# Extract unique values from street_df['Street_Name']\n",
    "street_unique_values = set(street_df['Street_Number'].unique())\n",
    "\n",
    "# Find the unique values that are in both sets\n",
    "common_values = parking_unique_values & street_unique_values\n",
    "\n",
    "# Print the common values\n",
    "print(len(common_values))\n"
   ]
  },
  {
   "cell_type": "code",
   "execution_count": 12,
   "id": "c0952b75",
   "metadata": {},
   "outputs": [
    {
     "name": "stdout",
     "output_type": "stream",
     "text": [
      "704\n"
     ]
    }
   ],
   "source": [
    "# Step 3: Merge the datasets\n",
    "merged_df = pd.merge(parking_df, street_df, left_on='Crime_Str_No', right_on='Street_Number', how='inner')\n",
    "grouped_df = merged_df.groupby(['Crime_Str_No', 'Street_Number', 'Street_Name', 'latitude', 'longitude']).size().reset_index(name='Total Violations')\n",
    "print(len(grouped_df))"
   ]
  },
  {
   "cell_type": "code",
   "execution_count": 80,
   "id": "71024380",
   "metadata": {},
   "outputs": [
    {
     "name": "stdout",
     "output_type": "stream",
     "text": [
      "       Crime_Str_No                                     Crime_location  \\\n",
      "0              1606                         Bonn, Lyngsbergstra√üe 108   \n",
      "1              1606              Bonn, Siemensstra√üe Parkplatz Sirius   \n",
      "2              1606         Bonn, Wilhelmstra√üe gegen√ºber Hnr. 40/42   \n",
      "3              1606                  Bonn, F√ºrstenstra√üe Ecke Am Hof   \n",
      "4              1606  Bonn, Obere Wilhelmstra√üe Ecke Beueler Bahnho...   \n",
      "...             ...                                                ...   \n",
      "47618          2340                           Friesdorfer Str. 248-250   \n",
      "47619          2340                               Friesdorfer Str. 250   \n",
      "47620          2340                               Friesdorfer Str. 252   \n",
      "47621          2340                      Bonn, Villichgasse vor Hnr. 2   \n",
      "47622          2346                        Bonn, Villichgasse ohne Nr.   \n",
      "\n",
      "       Crime_Violation_No  Total_Fine Vehicle_Description  Street_Number  \\\n",
      "0                  112293          15                 PKW           1606   \n",
      "1                  329610          60                 PKW           1606   \n",
      "2                  113120          10                 PKW           1606   \n",
      "3                  141106          30                 PKW           1606   \n",
      "4                  112402          20                 PKW           1606   \n",
      "...                   ...         ...                 ...            ...   \n",
      "47618              112402          20                 PKW           2340   \n",
      "47619              112402          20                 PKW           2340   \n",
      "47620              112403          30                 PKW           2340   \n",
      "47621              141312          15                 PKW           2340   \n",
      "47622              142278          35                 PKW           2346   \n",
      "\n",
      "                 Street_Name   latitude  longitude  \n",
      "0             Pastoratsgasse  50.725760   7.072944  \n",
      "1             Pastoratsgasse  50.725760   7.072944  \n",
      "2             Pastoratsgasse  50.725760   7.072944  \n",
      "3             Pastoratsgasse  50.725760   7.072944  \n",
      "4             Pastoratsgasse  50.725760   7.072944  \n",
      "...                      ...        ...        ...  \n",
      "47618  Riemenschneiderstraﬂe  50.715790   7.115673  \n",
      "47619  Riemenschneiderstraﬂe  50.715790   7.115673  \n",
      "47620  Riemenschneiderstraﬂe  50.715790   7.115673  \n",
      "47621  Riemenschneiderstraﬂe  50.715790   7.115673  \n",
      "47622   Robert-Schuman-Platz  50.706495   7.137781  \n",
      "\n",
      "[47623 rows x 9 columns]\n"
     ]
    }
   ],
   "source": [
    "print(merged_df)"
   ]
  },
  {
   "cell_type": "code",
   "execution_count": 81,
   "id": "0ca7dcb2",
   "metadata": {},
   "outputs": [],
   "source": [
    "# Step 4: Create a scatter plot\n",
    "fig = px.scatter(grouped_df, x='Street_Number', y='Street_Name', size='Total Violations', color='Total Violations')\n",
    "\n"
   ]
  },
  {
   "cell_type": "code",
   "execution_count": 13,
   "id": "f744a349",
   "metadata": {},
   "outputs": [
    {
     "ename": "NameError",
     "evalue": "name 'fig' is not defined",
     "output_type": "error",
     "traceback": [
      "\u001b[0;31m---------------------------------------------------------------------------\u001b[0m",
      "\u001b[0;31mNameError\u001b[0m                                 Traceback (most recent call last)",
      "Cell \u001b[0;32mIn[13], line 2\u001b[0m\n\u001b[1;32m      1\u001b[0m \u001b[38;5;66;03m# Step 5: Display the plot\u001b[39;00m\n\u001b[0;32m----> 2\u001b[0m \u001b[43mfig\u001b[49m\u001b[38;5;241m.\u001b[39mshow()\n",
      "\u001b[0;31mNameError\u001b[0m: name 'fig' is not defined"
     ]
    }
   ],
   "source": [
    "# Step 5: Display the plot\n",
    "fig.show()  # Use this for plotly\n",
    "\n"
   ]
  },
  {
   "cell_type": "code",
   "execution_count": 83,
   "id": "aa0fa16d",
   "metadata": {},
   "outputs": [
    {
     "name": "stdout",
     "output_type": "stream",
     "text": [
      "Index(['Crime_Str_No', 'Street_Number', 'Street_Name', 'latitude', 'longitude',\n",
      "       'Total Violations'],\n",
      "      dtype='object')\n"
     ]
    }
   ],
   "source": [
    "print(grouped_df.columns)"
   ]
  },
  {
   "cell_type": "code",
   "execution_count": 84,
   "id": "5a65c617",
   "metadata": {},
   "outputs": [
    {
     "name": "stdout",
     "output_type": "stream",
     "text": [
      "704\n"
     ]
    }
   ],
   "source": [
    "print(len(grouped_df))"
   ]
  },
  {
   "cell_type": "code",
   "execution_count": 88,
   "id": "220f7c46",
   "metadata": {},
   "outputs": [],
   "source": [
    "import folium\n",
    "import pandas as pd\n",
    "\n",
    "# Sample data\n",
    "data = grouped_df\n",
    "\n",
    "# Convert data to DataFrame\n",
    "df = pd.DataFrame(data)\n",
    "\n",
    "# Specify the latitude and longitude to center the map\n",
    "center_latitude = df['latitude'][0]\n",
    "center_longitude = df['longitude'][0]\n",
    "\n",
    "# Create a folium map and set its center location\n",
    "m = folium.Map(location=[center_latitude, center_longitude], zoom_start=13)\n",
    "\n",
    "# Add circles to the map\n",
    "for index, row in df.iterrows():\n",
    "    street_name = row['Street_Name']\n",
    "    total_violations = row['Total Violations']\n",
    "    \n",
    "    # Create a pop-up message with street_name and Total Violations\n",
    "    popup_message = f\"Street Name: {street_name}<br>Total Violations: {total_violations}\"\n",
    "    \n",
    "    # Add circle marker with pop-up to the map\n",
    "    folium.CircleMarker(\n",
    "        location=[row['latitude'], row['longitude']],\n",
    "        radius=row['Total Violations'] * 0.25,  # Adjust the size scaling factor as needed\n",
    "        color='red',\n",
    "        fill=True,\n",
    "        fill_color='red',\n",
    "        fill_opacity=0.5,\n",
    "        popup=popup_message\n",
    "    ).add_to(m)\n",
    "\n",
    "# Save the map to an HTML file\n",
    "m.save('map.html')"
   ]
  }
 ],
 "metadata": {
  "kernelspec": {
   "display_name": "Python 3 (ipykernel)",
   "language": "python",
   "name": "python3"
  },
  "language_info": {
   "codemirror_mode": {
    "name": "ipython",
    "version": 3
   },
   "file_extension": ".py",
   "mimetype": "text/x-python",
   "name": "python",
   "nbconvert_exporter": "python",
   "pygments_lexer": "ipython3",
   "version": "3.9.16"
  }
 },
 "nbformat": 4,
 "nbformat_minor": 5
}
